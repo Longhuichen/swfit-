{
  "nbformat": 4,
  "nbformat_minor": 0,
  "metadata": {
    "colab": {
      "name": "Untitled3.ipynb",
      "provenance": [],
      "collapsed_sections": [],
      "authorship_tag": "ABX9TyOFve78SP8js7/25ejEy8sZ",
      "include_colab_link": true
    },
    "kernelspec": {
      "name": "swift",
      "display_name": "Swift"
    }
  },
  "cells": [
    {
      "cell_type": "markdown",
      "metadata": {
        "id": "view-in-github",
        "colab_type": "text"
      },
      "source": [
        "<a href=\"https://colab.research.google.com/github/Longhuichen/swfit-/blob/main/Untitled3.ipynb\" target=\"_parent\"><img src=\"https://colab.research.google.com/assets/colab-badge.svg\" alt=\"Open In Colab\"/></a>"
      ]
    },
    {
      "cell_type": "code",
      "metadata": {
        "id": "rrSAGaxEfled"
      },
      "source": [
        "1 // 字符串与数字结合\n",
        "var player_nm = \"Curry\"\n",
        "var age = 32\n",
        "print(player_nm + \" is \" + String(age)) // 字符串相加\n",
        "print(\"\\(player_nm) is \\(age)\")   //嵌入变量"
      ],
      "execution_count": null,
      "outputs": []
    },
    {
      "cell_type": "code",
      "metadata": {
        "id": "6x-CUm0HjObf"
      },
      "source": [
        "2 // 创建hash-map结构\n",
        "var mysklill = [\" java\": 3, \"python\": 5, \"Node\": 4]\n",
        "print(mysklill)\n",
        "print(mysklill[\"python\"])\n",
        "//追加技能\n",
        "mysklill[\"Go\"] = 2\n",
        "print(mysklill)"
      ],
      "execution_count": null,
      "outputs": []
    },
    {
      "cell_type": "code",
      "metadata": {
        "id": "_W8oEJWrllJE"
      },
      "source": [
        "3 // 要创建一个空数组或字典，请使用初始化程序语法.\n",
        " let mylist = [String]()\n",
        " let mysklill = [String:Float]()\n",
        " print(mylist)\n",
        " print(mysklill)"
      ],
      "execution_count": null,
      "outputs": []
    },
    {
      "cell_type": "markdown",
      "metadata": {
        "id": "lt2Ki6jmnYsB"
      },
      "source": [
        "控制流程"
      ]
    },
    {
      "cell_type": "code",
      "metadata": {
        "id": "eudsuofZnb2n"
      },
      "source": [
        "4 // 使用for - in循环数组\n",
        "var mylist = [1,3,5,8,13]\n",
        "for val in mylist {\n",
        "  print(val)\n",
        "}\n",
        "// 循环哈希表\n",
        "var playerScoreList = [\"Curry\": 31, \"LeBron\": 27, \"Harden\": 45]\n",
        "for score in playerScoreList {\n",
        "  if score.value >= 30 {\n",
        "    print(\"\\(score.key) is MVP.\")\n",
        "  } else {\n",
        "    print(\"\\(score.key) is good player\")\n",
        "  }\n",
        "}"
      ],
      "execution_count": null,
      "outputs": []
    },
    {
      "cell_type": "code",
      "metadata": {
        "id": "afjZWh2OxfjW"
      },
      "source": [
        "5 // 设置可以为(nil)的变量\n",
        "var age: Int? = 25\n",
        "age = nil\n",
        "if age == nil {\n",
        "  print(\"年龄未知\")\n",
        "} else {\n",
        "  print(\"年龄是：\\(age)\")\n",
        "}"
      ],
      "execution_count": null,
      "outputs": []
    },
    {
      "cell_type": "markdown",
      "metadata": {
        "id": "CD_SIULu2TGK"
      },
      "source": [
        "函数和闭包"
      ]
    },
    {
      "cell_type": "code",
      "metadata": {
        "id": "BAX_KdMjyWfO"
      },
      "source": [
        "6 // 定义一个函数，参数，包括返回值\n",
        "func sayHelo(name:String) -> String {\n",
        "  return \"helo \\(name)\"\n",
        "} \n",
        "print(sayHelo(name: \"swfit\"))\n",
        "print(sayHelo(name: \"kotlin\"))"
      ],
      "execution_count": null,
      "outputs": []
    },
    {
      "cell_type": "code",
      "metadata": {
        "id": "5aZ9mulb4uYf"
      },
      "source": [
        "7 // 定义一个人返回元组的函数\n",
        "func calMath(x: Int, y: Int) -> (plus: Int, minus: Int, multi: Int, divide: Int) {\n",
        "  return (x+y, x-y, x*y, x/y)\n",
        "}\n",
        "print(calMath(x: 20, y: 10))\n",
        "// 获取计算结果，逐个输出\n",
        "let result = calMath(x: 20, y: 10)\n",
        "print(result.plus)\n",
        "print(result.minus)\n",
        "print(result.multi)\n",
        "print(result.divide)"
      ],
      "execution_count": null,
      "outputs": []
    },
    {
      "cell_type": "code",
      "metadata": {
        "id": "htQu20Gh6eQR"
      },
      "source": [
        "8 // 嵌套定义函数\n",
        "func calMath2(x: Int, y: Int) -> Int {\n",
        "  func add() -> Int {\n",
        "    return x + y\n",
        "  }\n",
        "  return add()\n",
        "}\n",
        "print(calMath2(x: 3, y: 4))"
      ],
      "execution_count": null,
      "outputs": []
    },
    {
      "cell_type": "code",
      "metadata": {
        "colab": {
          "base_uri": "https://localhost:8080/"
        },
        "id": "Kh3Ojp8u7xO7",
        "outputId": "aa17e211-0ea8-4bc5-a168-85d3a356282c"
      },
      "source": [
        "9 // 返回一个函数\n",
        "func calMath3() -> ((Int, Int)->Int) {\n",
        "  func add(x: Int, y: Int) -> Int {\n",
        "    return x + y\n",
        "  }\n",
        "  return add\n",
        "}\n",
        "var func_add = calMath3()\n",
        "print(func_add(10, 20))"
      ],
      "execution_count": null,
      "outputs": [
        {
          "output_type": "stream",
          "text": [
            "30\r\n"
          ],
          "name": "stdout"
        }
      ]
    },
    {
      "cell_type": "code",
      "metadata": {
        "id": "_Lb4rwRq8sJA"
      },
      "source": [
        "10 // 定义回调函数\n",
        "func showScreen(threshold: Int, cb: (String) -> Void) {\n",
        "  print(\"showScreen:\", threshold)\n",
        "  cb(\"helo u\")\n",
        "}\n",
        "\n",
        "func screen_cb(screen_data: String) -> Void {\n",
        "  print(\"screen_data is \", screen_data)\n",
        "}\n",
        "showScreen(threshold: 100, cb: screen_cb)"
      ],
      "execution_count": null,
      "outputs": []
    },
    {
      "cell_type": "code",
      "metadata": {
        "id": "LNqUGf8ZCGWO"
      },
      "source": [
        "11 // 闭包的使用\n",
        "var numbers = [1, 2, 3, 4, 5]\n",
        "var mylist = numbers.map({(number: Int) -> Int in\n",
        "    return number * number\n",
        "})\n",
        "print(mylist)\n",
        "// 正规写法\n",
        "func Power2(number: Int) -> Int {\n",
        "  return number * number\n",
        "}\n",
        "mylist = numbers.map(Power2)\n",
        "print(mylist)\n",
        "// 简单的写法\n",
        "mylist = numbers.map({number in number * number})\n",
        "print(mylist)\n",
        "// 排序闭包\n",
        "mylist = numbers.sorted{$0>$1}\n",
        "print(mylist)"
      ],
      "execution_count": null,
      "outputs": []
    },
    {
      "cell_type": "markdown",
      "metadata": {
        "id": "v8fYE-VsEyBR"
      },
      "source": [
        "对象和类"
      ]
    },
    {
      "cell_type": "code",
      "metadata": {
        "id": "fDqTqcY8EuOU"
      },
      "source": [
        "12 // 定义一个类\n",
        "class Player {\n",
        "  var score = 0\n",
        "  init(score: Int) {\n",
        "    self.score = score\n",
        "  }\n",
        "  func playerLevel() -> String {\n",
        "    if self.score >= 30 {\n",
        "      return \"MVP\"\n",
        "    } else if self.score >= 20 {\n",
        "      return \"球星\"\n",
        "    } else if self.score >= 10 {\n",
        "       return \"首发\"\n",
        "    } else {\n",
        "       return \"板凳\"\n",
        "    }\n",
        "  }\n",
        "}\n",
        "\n",
        "var player = Player(score: 25)\n",
        "print(player.playerLevel())"
      ],
      "execution_count": null,
      "outputs": []
    },
    {
      "cell_type": "code",
      "metadata": {
        "id": "NYSXQCs0KyAe"
      },
      "source": [
        "13 // 类继承， 方法重载\n",
        "class NBAPlayer: Player {\n",
        "    override func playerLevel() -> String {\n",
        "  if self.score >= 15 {\n",
        "    return \"交易过来\"\n",
        "  } else {\n",
        "    return \"交易出去\"\n",
        "    }\n",
        "  }\n",
        "}\n",
        "var player =  NBAPlayer(score: 23)\n",
        "print(player.playerLevel())"
      ],
      "execution_count": null,
      "outputs": []
    },
    {
      "cell_type": "code",
      "metadata": {
        "id": "WF67up0UMivN"
      },
      "source": [
        "14 // 定义getter和setter\n",
        "class Circle {\n",
        "  //半径\n",
        "  var radius: Float = 0\n",
        "  init(radius: Float) {\n",
        "    self.radius = radius\n",
        "  }\n",
        "  //面积\n",
        "  var area: Float {\n",
        "    get {\n",
        "      return 3.14 * self.radius\n",
        "    }\n",
        "    set {\n",
        "      self.radius = newValue / 3.14\n",
        "    }\n",
        "  }\n",
        "}\n",
        "var circle = Circle(radius: 10)\n",
        "print(circle.area)\n",
        "\n",
        "//传入面积后， 自动计算半径长度\n",
        "circle.area = 62.8\n",
        "print(circle.radius)\n",
        "\n"
      ],
      "execution_count": null,
      "outputs": []
    },
    {
      "cell_type": "markdown",
      "metadata": {
        "id": "S4xp1pfKQUci"
      },
      "source": [
        "枚举和结构"
      ]
    },
    {
      "cell_type": "code",
      "metadata": {
        "id": "K4OzSgAZQYUQ"
      },
      "source": [
        "15 // 创造一个枚举类型\n",
        "enum Lang {\n",
        "  case java\n",
        "  case python\n",
        "  case javascript\n",
        "  case typescript\n",
        "  case go\n",
        "  case vb\n",
        "  case ruby\n",
        "  case php\n",
        "}\n",
        "\n",
        "let mylang = Lang.java\n",
        "switch(mylang) {\n",
        "  case Lang.python:\n",
        "    print(\"机器学习必备\")\n",
        "  case Lang.java:\n",
        "    print(\"老牌语言\")\n",
        "  case Lang.go:\n",
        "    print(\"并不是第一\")\n",
        "  default:\n",
        "    print(\"很不错的语言\")\n",
        "}"
      ],
      "execution_count": null,
      "outputs": []
    },
    {
      "cell_type": "code",
      "metadata": {
        "id": "wftjzDEMTGWF"
      },
      "source": [
        "16 // 定义枚举的自描述方法\n",
        "enum Lang {\n",
        "  case java\n",
        "  case python\n",
        "  case go\n",
        "  case ruby\n",
        "  func desc() {\n",
        "    switch self {\n",
        "      case  .python:\n",
        "        print(\"101020\")\n",
        "      case  .java:\n",
        "        print(\"789\")\n",
        "      case  .go:\n",
        "        print(\"456\")\n",
        "      default:\n",
        "        print(\"123\")\n",
        "            \n",
        "    }\n",
        "  }\n",
        "}\n",
        "let mylang = Lang.python\n",
        "mylang.desc()"
      ],
      "execution_count": null,
      "outputs": []
    },
    {
      "cell_type": "code",
      "metadata": {
        "id": "7Y7DSzcPVe5P"
      },
      "source": [
        "17 // 枚举的参数\n",
        "enum HttpResponse {\n",
        "  //成功返回代码\n",
        "  case success(Int)\n",
        "  //失败返回错误信息\n",
        "  case failure(String)\n",
        "}\n",
        "\n",
        "// let result = HttpResponse.success(200)\n",
        "let result = HttpResponse.failure(\"数据库访问失败\")\n",
        "switch result {\n",
        "  case let .success(code):\n",
        "    print(\"请求成功：\", code)\n",
        "  case let .failure(message):\n",
        "    print(\"请求失败：\", message)\n",
        "}"
      ],
      "execution_count": null,
      "outputs": []
    },
    {
      "cell_type": "code",
      "metadata": {
        "id": "DAeL-GO2XrA3"
      },
      "source": [
        "18 //定义结构体, 作为值传递对象\n",
        "struct LonginForm {\n",
        "  var uid: String\n",
        "  var pwd: String\n",
        "  var authorized_code: String\n",
        "}\n",
        "\n",
        "let user1 = LonginForm(uid: \"komavideo\", pwd: \"iloveu\", authorized_code: \"12345678\")\n",
        "print(user1)"
      ],
      "execution_count": null,
      "outputs": []
    },
    {
      "cell_type": "markdown",
      "metadata": {
        "id": "pHihEq0pZExS"
      },
      "source": [
        "协议和扩展"
      ]
    },
    {
      "cell_type": "code",
      "metadata": {
        "colab": {
          "base_uri": "https://localhost:8080/"
        },
        "id": "e18N-t5aZJ4l",
        "outputId": "7db001e1-f4cc-417c-ff37-be01aae5b7a7"
      },
      "source": [
        "19 //定义一个协议（多数据库产品模式）\n",
        "protocol IDatabase {\n",
        "  var dbname: String { get set }\n",
        "  func exeSql(sql: String) -> Int\n",
        "  mutating func upgrade(dbname: String)\n",
        "}\n",
        "\n",
        "// PostgreSql\n",
        "class PostgreSql: IDatabase {\n",
        "  var dbname: String = \"postgre\"\n",
        "  func exeSql(sql: String) -> Int {\n",
        "    print(\"Postgre执行Sql: \", sql)\n",
        "    return 100\n",
        "  }\n",
        "  func upgrade(dbname: String) {\n",
        "    self.dbname = dbname\n",
        "  }\n",
        "}\n",
        "\n",
        "\n",
        "\n",
        "// MySql\n",
        "class MySql: IDatabase {\n",
        "  var dbname: String = \"mysql\"\n",
        "  func exeSql(sql: String) -> Int {\n",
        "    print(\"MySql执行Sql: \", sql)\n",
        "    return 200\n",
        "  }\n",
        "  func upgrade(dbname: String) {\n",
        "    self.dbname = dbname\n",
        "  }\n",
        "\n",
        "}\n",
        "let db1 = PostgreSql()\n",
        "var result1 = db1.exeSql(sql: \"SELECT * FROM TABLES\")\n",
        "db1.upgrade(dbname: \"postgreSql 12.4\")\n",
        "print(db1.dbname)\n",
        "\n",
        "let db2 = MySql()\n",
        "var result2 = db2.exeSql(sql: \"DESC TABLES\")\n",
        "db2.upgrade(dbname: \"Mysql 8.8.21\")\n",
        "print(db2.dbname)"
      ],
      "execution_count": null,
      "outputs": [
        {
          "output_type": "stream",
          "text": [
            "Postgre执行Sql:  SELECT * FROM TABLES\r\n",
            "postgreSql 12.4\r\n",
            "MySql执行Sql:  DESC TABLES\r\n",
            "Mysql 8.8.21\r\n"
          ],
          "name": "stdout"
        }
      ]
    },
    {
      "cell_type": "code",
      "metadata": {
        "id": "S5jDxx21O2FZ"
      },
      "source": [
        "20 // 扩展postgreSql类, 添加新功能\n",
        "extension PostgreSql {\n",
        "    func batchExeSql(sql: [String]) -> Int {\n",
        "        print(\"批处理Sql\", sql)\n",
        "        return 300\n",
        "    }\n",
        "  }\n",
        "let db3 = PostgreSql()\n",
        "db3.batchExeSql(sql: [\"BEGIN TRANSACTION ...\", \"UPDATE TABLE1 SET ...\"])"
      ],
      "execution_count": null,
      "outputs": []
    },
    {
      "cell_type": "markdown",
      "metadata": {
        "id": "-xJZa0ivT-dt"
      },
      "source": [
        "错误处理"
      ]
    },
    {
      "cell_type": "code",
      "metadata": {
        "id": "Cpv9_gPNT34U"
      },
      "source": [
        "21 // 定义错误枚举\n",
        "enum DatabaseError: Error {\n",
        "  case db_error\n",
        "  case sql_error\n",
        "  case network_error\n",
        "}\n",
        "// 定义一个抛例外的方法\n",
        "func exeSqlCom(sql: String?) throws -> Int {\n",
        "  if sql == nil {\n",
        "    throw DatabaseError.sql_error\n",
        "  }\n",
        "  return 1\n",
        "}\n",
        "// 列外捕捉\n",
        "do {\n",
        "  try exeSqlCom(sql: nil)\n",
        "} catch DatabaseError.sql_error {\n",
        "  print(\"sql出错\")\n",
        "} catch {\n",
        "  print(error)\n",
        "}\n",
        "// try? 列外捕捉 \n",
        "let db_result = try? exeSqlCom(sql: nil)\n",
        "print(db_result)"
      ],
      "execution_count": null,
      "outputs": []
    }
  ]
}